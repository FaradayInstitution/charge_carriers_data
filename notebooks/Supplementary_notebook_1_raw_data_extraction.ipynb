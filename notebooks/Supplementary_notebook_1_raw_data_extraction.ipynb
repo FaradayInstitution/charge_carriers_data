{
 "cells": [
  {
   "cell_type": "markdown",
   "metadata": {},
   "source": [
    "# Raw data preprocessing\n",
    "\n",
    "This notebook handles the raw data from the two data sources used in this study: \n",
    "1. [Effective masses](https://www.nature.com/articles/sdata201785)\n",
    "2. [Dielectric constants](https://www.nature.com/articles/sdata201865)\n",
    "\n",
    "#### Requirements\n",
    "- The datasets must be downloaded in their entirety and put into the `raw_data/` directory.\n",
    "- You will need a (free) API key from the [Materials Project](http://materialsproject.org).\n",
    "\n",
    "`pip install numpy scipy pandas pymatgen matminer smact`\n",
    "\n",
    "\n",
    "#### Steps\n",
    "- Limit the effective mass data to those that include at least one metal or semi-metal element (also including Si).\n",
    "- Write to `processed_data/raw_eff_mass_data.json`, which is used in the main notebook.\n",
    "- Get the intersection of the datasets by checking that *any* of the unique Materials Project `task_id`s associated with each compound in set 1 is used to identify a compound in set 2.\n",
    "- Write to `processed_data/collected_raw_data.json`, which is used in the main notebook."
   ]
  },
  {
   "cell_type": "code",
   "execution_count": 2,
   "metadata": {},
   "outputs": [],
   "source": [
    "# Imports\n",
    "## Pymatgen\n",
    "from pymatgen import MPRester, Element, Composition\n",
    "from matminer.data_retrieval.retrieve_MP import MPDataRetrieval\n",
    "from matminer.utils.conversions import str_to_composition\n",
    "\n",
    "# Data\n",
    "import pandas as pd\n",
    "import json\n",
    "import gzip\n",
    "\n",
    "# Maths\n",
    "import numpy as np\n",
    "import scipy\n",
    "\n",
    "## System\n",
    "import os\n",
    "from datetime import datetime\n",
    "import multiprocessing\n",
    "\n",
    "# SMACT\n",
    "from smact import metals\n",
    "\n",
    "# Pandas options\n",
    "pd.options.display.max_rows = 999\n",
    "pd.options.display.max_columns = 999\n",
    "\n",
    "# MP API - Add yours below\n",
    "m = MPRester(os.environ.get('MP_API_KEY'))"
   ]
  },
  {
   "cell_type": "markdown",
   "metadata": {},
   "source": [
    "## Preliminaries"
   ]
  },
  {
   "cell_type": "code",
   "execution_count": 3,
   "metadata": {},
   "outputs": [],
   "source": [
    "# Function to pull necessary data out of a file and put into dict\n",
    "def extract_data_diel(filepath):\n",
    "    if filepath.endswith(\".json\"):\n",
    "        try:\n",
    "            with open(filepath , 'r') as f:\n",
    "                data = json.load(f)\n",
    "                if data['dielectric']:\n",
    "                    task_id = data['metadata']['material_id']\n",
    "                    formula = data['metadata']['formula']\n",
    "                    eps_total = data['dielectric']['eps_total']\n",
    "                    eps_electronic = data['dielectric']['eps_electronic']\n",
    "                    \n",
    "                    # Return as dict\n",
    "                    return {'task_id': task_id, 'formula': formula, \n",
    "                            'eps_total': eps_total, 'eps_electronic': eps_electronic}\n",
    "\n",
    "        except:\n",
    "            pass"
   ]
  },
  {
   "cell_type": "code",
   "execution_count": 4,
   "metadata": {},
   "outputs": [
    {
     "data": {
      "application/vnd.jupyter.widget-view+json": {
       "model_id": "82c77352865d4eae8b49dbe7b61c148a",
       "version_major": 2,
       "version_minor": 0
      },
      "text/plain": [
       "HBox(children=(IntProgress(value=0, max=132074), HTML(value='')))"
      ]
     },
     "metadata": {},
     "output_type": "display_data"
    }
   ],
   "source": [
    "# Query to get all Materials Project task_ids\n",
    "multiple_MPIDs = m.query(criteria={'task_id': {'$exists': True }}, properties = ['task_ids'])"
   ]
  },
  {
   "cell_type": "markdown",
   "metadata": {},
   "source": [
    "## Effective masses\n",
    "Data extracted from many `.json.gz` files and initially put into list of dicts.\n",
    "Dict keys are [formula, p_eff_mass_tensor, n_eff_mass_tensor, p_eff_mass_poly, n_eff_mass_poly, p_eff_mass_max, n_eff_mass_max, p_eff_mass_min, n_eff_mass_min]\n",
    "\n",
    "Note: Extracted data corresponds to conductivity effective mass at a temp of 300K and carrier conc. of 1e18."
   ]
  },
  {
   "cell_type": "code",
   "execution_count": 5,
   "metadata": {},
   "outputs": [],
   "source": [
    "# Function to pull necessary data out of a file and put into dict\n",
    "def extract_data(filepath):\n",
    "    if filepath.endswith(\".gz\"):\n",
    "        try:\n",
    "            with gzip.GzipFile(filepath , 'r') as f:\n",
    "                data = json.load(f)\n",
    "                if data['GGA']['cond_eff_mass']:\n",
    "                    task_id = data['task_id']['GGA']\n",
    "                    formula = data['pretty_formula']\n",
    "                    p_eff_mass = data['GGA']['cond_eff_mass']['p']['300']['1e+18']\n",
    "                    n_eff_mass = data['GGA']['cond_eff_mass']['n']['300']['1e+18']\n",
    "\n",
    "                    # Return as dict\n",
    "                    return {'task_id': task_id, 'formula': formula, \n",
    "                            'p_eff_mass': p_eff_mass, 'n_eff_mass': n_eff_mass}\n",
    "\n",
    "        except:\n",
    "            pass"
   ]
  },
  {
   "cell_type": "markdown",
   "metadata": {},
   "source": [
    "Use multiprocessing to get all the data.   \n",
    "takes a few minutes."
   ]
  },
  {
   "cell_type": "code",
   "execution_count": 7,
   "metadata": {},
   "outputs": [
    {
     "name": "stdout",
     "output_type": "stream",
     "text": [
      "Time: 0:03:15.078614\n"
     ]
    }
   ],
   "source": [
    "start = datetime.now()\n",
    "with multiprocessing.Pool() as p:\n",
    "    dirname = '../raw_data/eff_mass_data_1/'\n",
    "    result_1 = p.map(extract_data, [os.path.join(dirname,filename) for filename in os.listdir(dirname)])\n",
    "    dirname = '../raw_data/eff_mass_data_2/'\n",
    "    result_2 = p.map(extract_data, [os.path.join(dirname,filename) for filename in os.listdir(dirname)])\n",
    "print('Time: {}'.format(datetime.now() - start))"
   ]
  },
  {
   "cell_type": "code",
   "execution_count": 8,
   "metadata": {},
   "outputs": [
    {
     "name": "stdout",
     "output_type": "stream",
     "text": [
      "47738\n",
      "22976\n"
     ]
    }
   ],
   "source": [
    "# Combine into one list\n",
    "e_mass_data = result_1 + result_2\n",
    "# Remove Nones from list\n",
    "print(len(e_mass_data))\n",
    "e_mass_data = [x for x in e_mass_data if x is not None]\n",
    "print(len(e_mass_data))\n",
    "# Create dataframe\n",
    "effmass_df = pd.DataFrame(e_mass_data)"
   ]
  },
  {
   "cell_type": "code",
   "execution_count": 9,
   "metadata": {},
   "outputs": [],
   "source": [
    "# Get rid of gases and other nonsense\n",
    "# The compounds must include one of these:\n",
    "must_include = metals + ['Si','As','At']\n",
    "\n",
    "# Function to label whether the compound contains any of the necessary elements or not\n",
    "def label_unwanted(form):\n",
    "    comp = Composition(form)\n",
    "    symbols = [s.symbol for s in comp.elements]\n",
    "    contain_wanted = bool([i for i in symbols if i in must_include])\n",
    "    return(contain_wanted)\n",
    "\n",
    "effmass_df['wanted_formula'] = effmass_df.apply(lambda x: label_unwanted(x['formula']), axis=1)\n",
    "effmass_df = effmass_df.loc[effmass_df['wanted_formula'] == True]"
   ]
  },
  {
   "cell_type": "code",
   "execution_count": 10,
   "metadata": {},
   "outputs": [],
   "source": [
    "# Reduce down to columns we need, rename them to something useful, and save to json\n",
    "effmass_df = effmass_df.filter(['task_id', 'formula', 'n_eff_mass',\n",
    "                                      'p_eff_mass'], axis=1)"
   ]
  },
  {
   "cell_type": "code",
   "execution_count": 11,
   "metadata": {},
   "outputs": [
    {
     "name": "stdout",
     "output_type": "stream",
     "text": [
      "Number of compounds: 21942\n"
     ]
    }
   ],
   "source": [
    "# Drop none values\n",
    "effmass_df = effmass_df.dropna()\n",
    "print('Number of compounds: {}'.format(len(effmass_df)))"
   ]
  },
  {
   "cell_type": "code",
   "execution_count": 12,
   "metadata": {},
   "outputs": [],
   "source": [
    "# Write out to json\n",
    "with open('../processed_data/raw_eff_mass_data.json', 'w') as f:\n",
    "    out = effmass_df.to_json()\n",
    "    f.write(out)"
   ]
  },
  {
   "cell_type": "markdown",
   "metadata": {},
   "source": [
    "## Dilectric constants"
   ]
  },
  {
   "cell_type": "code",
   "execution_count": 13,
   "metadata": {},
   "outputs": [
    {
     "name": "stdout",
     "output_type": "stream",
     "text": [
      "1521\n"
     ]
    }
   ],
   "source": [
    "time = datetime.now()\n",
    "with multiprocessing.Pool() as p:\n",
    "    dirname = '../raw_data/dielectric_pettreto/phonon/'\n",
    "    diel_result = p.map(extract_data_diel, \n",
    "                  [os.path.join(dirname,filename) for filename in os.listdir(dirname)])\n",
    "    print(len(diel_result))"
   ]
  },
  {
   "cell_type": "code",
   "execution_count": 14,
   "metadata": {},
   "outputs": [],
   "source": [
    "# Add additional task_ids\n",
    "for d in diel_result:\n",
    "    for e in multiple_MPIDs:\n",
    "        if d['task_id'] in e['task_ids']:\n",
    "            d['all_task_ids'] = e['task_ids']"
   ]
  },
  {
   "cell_type": "markdown",
   "metadata": {},
   "source": [
    "### Combine dielectric and effecive mass data\n"
   ]
  },
  {
   "cell_type": "code",
   "execution_count": 15,
   "metadata": {},
   "outputs": [
    {
     "name": "stdout",
     "output_type": "stream",
     "text": [
      "1521\n",
      "1236\n"
     ]
    }
   ],
   "source": [
    "for d in diel_result:\n",
    "    for e in e_mass_data:\n",
    "        try:\n",
    "            if e['task_id'] in d['all_task_ids']:\n",
    "                for key in e.keys():\n",
    "                    d['e_mass_{}'.format(key)] = e[key]\n",
    "        except:\n",
    "            pass\n",
    "\n",
    "# Only store info for compounds in both datasets\n",
    "all_data = [e for e in diel_result if 'e_mass_formula' in e]\n",
    "print(len(diel_result))\n",
    "print(len(all_data))\n",
    "\n",
    "# create dataframe\n",
    "all_data_df = pd.DataFrame(all_data)"
   ]
  },
  {
   "cell_type": "code",
   "execution_count": 16,
   "metadata": {},
   "outputs": [],
   "source": [
    "# Get rid of gases and other nonsense again \n",
    "all_data_df['wanted_formula'] = all_data_df.apply(lambda x: label_unwanted(x['formula']), axis=1)\n",
    "all_data_df = all_data_df.loc[all_data_df['wanted_formula'] == True]"
   ]
  },
  {
   "cell_type": "code",
   "execution_count": 17,
   "metadata": {},
   "outputs": [
    {
     "name": "stdout",
     "output_type": "stream",
     "text": [
      "Number of compounds: 1131\n"
     ]
    }
   ],
   "source": [
    "# Drop none values\n",
    "all_data_df = all_data_df.dropna()\n",
    "print('Number of compounds: {}'.format(len(all_data_df)))"
   ]
  },
  {
   "cell_type": "code",
   "execution_count": 18,
   "metadata": {},
   "outputs": [],
   "source": [
    "# Reduce down to columns we need, rename them to something useful, and save to json\n",
    "reduced_raw_data = all_data_df.filter(['task_id', 'formula', 'e_mass_n_eff_mass',\n",
    "                                      'e_mass_p_eff_mass', 'eps_electronic', 'eps_total'], axis=1)\n",
    "\n",
    "reduced_raw_data = reduced_raw_data.rename(columns={'e_mass_n_eff_mass': 'n_eff_mass',\n",
    "                                                    'e_mass_p_eff_mass': 'p_eff_mass' })\n",
    "\n",
    "\n",
    "# Write out to json\n",
    "with open('../processed_data/collected_raw_data.json', 'w') as f:\n",
    "    out = reduced_raw_data.to_json()\n",
    "    f.write(out)"
   ]
  },
  {
   "cell_type": "code",
   "execution_count": null,
   "metadata": {},
   "outputs": [],
   "source": []
  }
 ],
 "metadata": {
  "kernelspec": {
   "display_name": "Python 3",
   "language": "python",
   "name": "python3"
  },
  "language_info": {
   "codemirror_mode": {
    "name": "ipython",
    "version": 3
   },
   "file_extension": ".py",
   "mimetype": "text/x-python",
   "name": "python",
   "nbconvert_exporter": "python",
   "pygments_lexer": "ipython3",
   "version": "3.7.4"
  }
 },
 "nbformat": 4,
 "nbformat_minor": 4
}
